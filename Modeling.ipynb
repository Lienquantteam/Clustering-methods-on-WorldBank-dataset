{
 "cells": [
  {
   "cell_type": "code",
   "execution_count": null,
   "metadata": {},
   "outputs": [],
   "source": [
    "# Model the clusters 1 and 2 into a Random forest and Logistic regression.\n",
    "# It helps us to validate how good the clustering is based on the accuracy of prediction.\n",
    "# As well as to predict the clusters 1 and 2"
   ]
  },
  {
   "cell_type": "code",
   "execution_count": 1,
   "metadata": {},
   "outputs": [],
   "source": [
    "import numpy as np\n",
    "import pandas as pd\n",
    "import matplotlib.pyplot as plt\n",
    "import seaborn as sns\n",
    "import warnings\n",
    "warnings.filterwarnings('ignore')\n",
    "pd.set_option('display.max_columns', None)"
   ]
  },
  {
   "cell_type": "code",
   "execution_count": 2,
   "metadata": {},
   "outputs": [
    {
     "data": {
      "text/html": [
       "<div>\n",
       "<style scoped>\n",
       "    .dataframe tbody tr th:only-of-type {\n",
       "        vertical-align: middle;\n",
       "    }\n",
       "\n",
       "    .dataframe tbody tr th {\n",
       "        vertical-align: top;\n",
       "    }\n",
       "\n",
       "    .dataframe thead th {\n",
       "        text-align: right;\n",
       "    }\n",
       "</style>\n",
       "<table border=\"1\" class=\"dataframe\">\n",
       "  <thead>\n",
       "    <tr style=\"text-align: right;\">\n",
       "      <th></th>\n",
       "      <th>adjsav_eduexp</th>\n",
       "      <th>ado_fert_rate</th>\n",
       "      <th>agedep_work</th>\n",
       "      <th>agedep_young</th>\n",
       "      <th>agrland</th>\n",
       "      <th>brate</th>\n",
       "      <th>fert_rate</th>\n",
       "      <th>c_gdp</th>\n",
       "      <th>grow_gdp</th>\n",
       "      <th>percap_gdp</th>\n",
       "      <th>percap_healthexp</th>\n",
       "      <th>healthexp_gdp</th>\n",
       "      <th>de_gdp</th>\n",
       "      <th>lifeexp_f</th>\n",
       "      <th>lifeexp_m</th>\n",
       "      <th>mortrate_un5f</th>\n",
       "      <th>mortrate_un5m</th>\n",
       "      <th>grow_pop</th>\n",
       "      <th>immu_dpt</th>\n",
       "      <th>immu_mea</th>\n",
       "      <th>hiv_fe15up</th>\n",
       "      <th>CO2emission</th>\n",
       "      <th>cluster</th>\n",
       "    </tr>\n",
       "    <tr>\n",
       "      <th>Unnamed: 0</th>\n",
       "      <th></th>\n",
       "      <th></th>\n",
       "      <th></th>\n",
       "      <th></th>\n",
       "      <th></th>\n",
       "      <th></th>\n",
       "      <th></th>\n",
       "      <th></th>\n",
       "      <th></th>\n",
       "      <th></th>\n",
       "      <th></th>\n",
       "      <th></th>\n",
       "      <th></th>\n",
       "      <th></th>\n",
       "      <th></th>\n",
       "      <th></th>\n",
       "      <th></th>\n",
       "      <th></th>\n",
       "      <th></th>\n",
       "      <th></th>\n",
       "      <th></th>\n",
       "      <th></th>\n",
       "      <th></th>\n",
       "    </tr>\n",
       "  </thead>\n",
       "  <tbody>\n",
       "    <tr>\n",
       "      <th>AFG</th>\n",
       "      <td>2.8502</td>\n",
       "      <td>99.10</td>\n",
       "      <td>103.12</td>\n",
       "      <td>98.72</td>\n",
       "      <td>58.12</td>\n",
       "      <td>37.95</td>\n",
       "      <td>5.66</td>\n",
       "      <td>1.024325e+10</td>\n",
       "      <td>8.4300</td>\n",
       "      <td>1183.0500</td>\n",
       "      <td>44.19</td>\n",
       "      <td>2.35</td>\n",
       "      <td>9.4400</td>\n",
       "      <td>60.88</td>\n",
       "      <td>58.38</td>\n",
       "      <td>100.4</td>\n",
       "      <td>106.7</td>\n",
       "      <td>2.46</td>\n",
       "      <td>66.0</td>\n",
       "      <td>62.0</td>\n",
       "      <td>35.400</td>\n",
       "      <td>0.30</td>\n",
       "      <td>1</td>\n",
       "    </tr>\n",
       "    <tr>\n",
       "      <th>ALB</th>\n",
       "      <td>2.8400</td>\n",
       "      <td>16.99</td>\n",
       "      <td>49.10</td>\n",
       "      <td>34.04</td>\n",
       "      <td>43.84</td>\n",
       "      <td>12.61</td>\n",
       "      <td>1.74</td>\n",
       "      <td>1.072515e+10</td>\n",
       "      <td>3.5000</td>\n",
       "      <td>7791.7600</td>\n",
       "      <td>220.23</td>\n",
       "      <td>2.53</td>\n",
       "      <td>3.4600</td>\n",
       "      <td>80.15</td>\n",
       "      <td>73.96</td>\n",
       "      <td>16.3</td>\n",
       "      <td>19.7</td>\n",
       "      <td>-0.03</td>\n",
       "      <td>99.0</td>\n",
       "      <td>99.0</td>\n",
       "      <td>28.023</td>\n",
       "      <td>1.57</td>\n",
       "      <td>2</td>\n",
       "    </tr>\n",
       "    <tr>\n",
       "      <th>DZA</th>\n",
       "      <td>4.4700</td>\n",
       "      <td>9.89</td>\n",
       "      <td>46.74</td>\n",
       "      <td>39.80</td>\n",
       "      <td>17.37</td>\n",
       "      <td>24.51</td>\n",
       "      <td>2.82</td>\n",
       "      <td>1.170000e+11</td>\n",
       "      <td>3.6000</td>\n",
       "      <td>7249.2300</td>\n",
       "      <td>198.16</td>\n",
       "      <td>3.47</td>\n",
       "      <td>16.1200</td>\n",
       "      <td>72.23</td>\n",
       "      <td>69.08</td>\n",
       "      <td>19.0</td>\n",
       "      <td>23.8</td>\n",
       "      <td>1.85</td>\n",
       "      <td>95.0</td>\n",
       "      <td>95.0</td>\n",
       "      <td>66.400</td>\n",
       "      <td>3.14</td>\n",
       "      <td>2</td>\n",
       "    </tr>\n",
       "    <tr>\n",
       "      <th>ATG</th>\n",
       "      <td>2.1600</td>\n",
       "      <td>51.76</td>\n",
       "      <td>50.30</td>\n",
       "      <td>39.43</td>\n",
       "      <td>20.45</td>\n",
       "      <td>16.97</td>\n",
       "      <td>2.13</td>\n",
       "      <td>1.009446e+09</td>\n",
       "      <td>-7.7400</td>\n",
       "      <td>17610.2200</td>\n",
       "      <td>771.38</td>\n",
       "      <td>4.20</td>\n",
       "      <td>-0.0100</td>\n",
       "      <td>77.80</td>\n",
       "      <td>72.99</td>\n",
       "      <td>9.4</td>\n",
       "      <td>11.7</td>\n",
       "      <td>1.08</td>\n",
       "      <td>98.0</td>\n",
       "      <td>98.0</td>\n",
       "      <td>31.402</td>\n",
       "      <td>5.57</td>\n",
       "      <td>2</td>\n",
       "    </tr>\n",
       "    <tr>\n",
       "      <th>ARG</th>\n",
       "      <td>6.0100</td>\n",
       "      <td>55.37</td>\n",
       "      <td>55.03</td>\n",
       "      <td>38.57</td>\n",
       "      <td>53.61</td>\n",
       "      <td>17.19</td>\n",
       "      <td>2.21</td>\n",
       "      <td>2.030475e+11</td>\n",
       "      <td>3.4444</td>\n",
       "      <td>11827.0654</td>\n",
       "      <td>759.30</td>\n",
       "      <td>5.34</td>\n",
       "      <td>4.6613</td>\n",
       "      <td>79.46</td>\n",
       "      <td>72.05</td>\n",
       "      <td>13.3</td>\n",
       "      <td>16.3</td>\n",
       "      <td>0.87</td>\n",
       "      <td>94.0</td>\n",
       "      <td>98.0</td>\n",
       "      <td>32.700</td>\n",
       "      <td>4.12</td>\n",
       "      <td>2</td>\n",
       "    </tr>\n",
       "  </tbody>\n",
       "</table>\n",
       "</div>"
      ],
      "text/plain": [
       "            adjsav_eduexp  ado_fert_rate  agedep_work  agedep_young  agrland  \\\n",
       "Unnamed: 0                                                                     \n",
       "AFG                2.8502          99.10       103.12         98.72    58.12   \n",
       "ALB                2.8400          16.99        49.10         34.04    43.84   \n",
       "DZA                4.4700           9.89        46.74         39.80    17.37   \n",
       "ATG                2.1600          51.76        50.30         39.43    20.45   \n",
       "ARG                6.0100          55.37        55.03         38.57    53.61   \n",
       "\n",
       "            brate  fert_rate         c_gdp  grow_gdp  percap_gdp  \\\n",
       "Unnamed: 0                                                         \n",
       "AFG         37.95       5.66  1.024325e+10    8.4300   1183.0500   \n",
       "ALB         12.61       1.74  1.072515e+10    3.5000   7791.7600   \n",
       "DZA         24.51       2.82  1.170000e+11    3.6000   7249.2300   \n",
       "ATG         16.97       2.13  1.009446e+09   -7.7400  17610.2200   \n",
       "ARG         17.19       2.21  2.030475e+11    3.4444  11827.0654   \n",
       "\n",
       "            percap_healthexp  healthexp_gdp   de_gdp  lifeexp_f  lifeexp_m  \\\n",
       "Unnamed: 0                                                                   \n",
       "AFG                    44.19           2.35   9.4400      60.88      58.38   \n",
       "ALB                   220.23           2.53   3.4600      80.15      73.96   \n",
       "DZA                   198.16           3.47  16.1200      72.23      69.08   \n",
       "ATG                   771.38           4.20  -0.0100      77.80      72.99   \n",
       "ARG                   759.30           5.34   4.6613      79.46      72.05   \n",
       "\n",
       "            mortrate_un5f  mortrate_un5m  grow_pop  immu_dpt  immu_mea  \\\n",
       "Unnamed: 0                                                               \n",
       "AFG                 100.4          106.7      2.46      66.0      62.0   \n",
       "ALB                  16.3           19.7     -0.03      99.0      99.0   \n",
       "DZA                  19.0           23.8      1.85      95.0      95.0   \n",
       "ATG                   9.4           11.7      1.08      98.0      98.0   \n",
       "ARG                  13.3           16.3      0.87      94.0      98.0   \n",
       "\n",
       "            hiv_fe15up  CO2emission  cluster  \n",
       "Unnamed: 0                                    \n",
       "AFG             35.400         0.30        1  \n",
       "ALB             28.023         1.57        2  \n",
       "DZA             66.400         3.14        2  \n",
       "ATG             31.402         5.57        2  \n",
       "ARG             32.700         4.12        2  "
      ]
     },
     "execution_count": 2,
     "metadata": {},
     "output_type": "execute_result"
    }
   ],
   "source": [
    "# Import the clean dataset with cluster labels\n",
    "df = pd.read_csv('df_with_clusters.csv')\n",
    "df.set_index('Unnamed: 0', inplace=True)\n",
    "\n",
    "# Remove the last column with 3 cluster labels as we dont need it in our current modelling\n",
    "df.drop(df.columns[-1], axis=1, inplace=True)\n",
    "df.head()"
   ]
  },
  {
   "cell_type": "code",
   "execution_count": 3,
   "metadata": {},
   "outputs": [],
   "source": [
    "# Lets recode the values 1 and 2 in the cluster column to 1 and 0\n",
    "# This means that the cluster 1 representing underdeveloped countries will be 1 because they are of interest\n",
    "# cluster 2 representing developed countries will be 0 becasue they are not of interest\n",
    "df.loc[df['cluster'] == 1, 'cluster'] = 1\n",
    "df.loc[df['cluster'] == 2, 'cluster'] = 0"
   ]
  },
  {
   "cell_type": "code",
   "execution_count": 4,
   "metadata": {},
   "outputs": [
    {
     "data": {
      "text/plain": [
       "0    106\n",
       "1     45\n",
       "Name: cluster, dtype: int64"
      ]
     },
     "execution_count": 4,
     "metadata": {},
     "output_type": "execute_result"
    }
   ],
   "source": [
    "df['cluster'].value_counts()"
   ]
  },
  {
   "cell_type": "code",
   "execution_count": 5,
   "metadata": {},
   "outputs": [],
   "source": [
    "from sklearn.model_selection import train_test_split\n",
    "from sklearn.ensemble import RandomForestClassifier\n",
    "from sklearn.linear_model import LogisticRegression\n",
    "from sklearn.metrics import accuracy_score, confusion_matrix, classification_report, roc_auc_score, roc_curve\n",
    "from collections import Counter"
   ]
  },
  {
   "cell_type": "code",
   "execution_count": 6,
   "metadata": {},
   "outputs": [],
   "source": [
    "X = df.drop('cluster', axis=1)\n",
    "y = df.cluster"
   ]
  },
  {
   "cell_type": "code",
   "execution_count": 7,
   "metadata": {},
   "outputs": [],
   "source": [
    "X_train, X_test, y_train, y_test = train_test_split(X, y, test_size=0.2, random_state=42)"
   ]
  },
  {
   "cell_type": "code",
   "execution_count": 8,
   "metadata": {},
   "outputs": [
    {
     "name": "stdout",
     "output_type": "stream",
     "text": [
      "0.9032258064516129\n"
     ]
    }
   ],
   "source": [
    "# Random Forest\n",
    "model_rf = RandomForestClassifier(n_jobs=-1, random_state=45)\n",
    "model_rf.fit(X_train, y_train)\n",
    "y_pred = model_rf.predict(X_test)\n",
    "print(accuracy_score(y_test, y_pred))"
   ]
  },
  {
   "cell_type": "code",
   "execution_count": 9,
   "metadata": {},
   "outputs": [
    {
     "name": "stdout",
     "output_type": "stream",
     "text": [
      "Counter({0: 20, 1: 11})\n"
     ]
    },
    {
     "data": {
      "text/html": [
       "<div>\n",
       "<style scoped>\n",
       "    .dataframe tbody tr th:only-of-type {\n",
       "        vertical-align: middle;\n",
       "    }\n",
       "\n",
       "    .dataframe tbody tr th {\n",
       "        vertical-align: top;\n",
       "    }\n",
       "\n",
       "    .dataframe thead th {\n",
       "        text-align: right;\n",
       "    }\n",
       "</style>\n",
       "<table border=\"1\" class=\"dataframe\">\n",
       "  <thead>\n",
       "    <tr style=\"text-align: right;\">\n",
       "      <th>col_0</th>\n",
       "      <th>0</th>\n",
       "      <th>1</th>\n",
       "    </tr>\n",
       "    <tr>\n",
       "      <th>cluster</th>\n",
       "      <th></th>\n",
       "      <th></th>\n",
       "    </tr>\n",
       "  </thead>\n",
       "  <tbody>\n",
       "    <tr>\n",
       "      <th>0</th>\n",
       "      <td>20</td>\n",
       "      <td>0</td>\n",
       "    </tr>\n",
       "    <tr>\n",
       "      <th>1</th>\n",
       "      <td>3</td>\n",
       "      <td>8</td>\n",
       "    </tr>\n",
       "  </tbody>\n",
       "</table>\n",
       "</div>"
      ],
      "text/plain": [
       "col_0     0  1\n",
       "cluster       \n",
       "0        20  0\n",
       "1         3  8"
      ]
     },
     "execution_count": 9,
     "metadata": {},
     "output_type": "execute_result"
    }
   ],
   "source": [
    "print(Counter(y_test))\n",
    "pd.crosstab(y_test, y_pred)"
   ]
  },
  {
   "cell_type": "code",
   "execution_count": 10,
   "metadata": {},
   "outputs": [
    {
     "name": "stdout",
     "output_type": "stream",
     "text": [
      "0.6451612903225806\n"
     ]
    }
   ],
   "source": [
    "# Logistic Regression\n",
    "model_lr = LogisticRegression(random_state=45)\n",
    "model_lr.fit(X_train, y_train)\n",
    "y_pred = model_lr.predict(X_test)\n",
    "print(accuracy_score(y_test, y_pred))"
   ]
  },
  {
   "cell_type": "code",
   "execution_count": 11,
   "metadata": {},
   "outputs": [
    {
     "name": "stdout",
     "output_type": "stream",
     "text": [
      "Counter({0: 20, 1: 11})\n"
     ]
    },
    {
     "data": {
      "text/html": [
       "<div>\n",
       "<style scoped>\n",
       "    .dataframe tbody tr th:only-of-type {\n",
       "        vertical-align: middle;\n",
       "    }\n",
       "\n",
       "    .dataframe tbody tr th {\n",
       "        vertical-align: top;\n",
       "    }\n",
       "\n",
       "    .dataframe thead th {\n",
       "        text-align: right;\n",
       "    }\n",
       "</style>\n",
       "<table border=\"1\" class=\"dataframe\">\n",
       "  <thead>\n",
       "    <tr style=\"text-align: right;\">\n",
       "      <th>col_0</th>\n",
       "      <th>0</th>\n",
       "    </tr>\n",
       "    <tr>\n",
       "      <th>cluster</th>\n",
       "      <th></th>\n",
       "    </tr>\n",
       "  </thead>\n",
       "  <tbody>\n",
       "    <tr>\n",
       "      <th>0</th>\n",
       "      <td>20</td>\n",
       "    </tr>\n",
       "    <tr>\n",
       "      <th>1</th>\n",
       "      <td>11</td>\n",
       "    </tr>\n",
       "  </tbody>\n",
       "</table>\n",
       "</div>"
      ],
      "text/plain": [
       "col_0     0\n",
       "cluster    \n",
       "0        20\n",
       "1        11"
      ]
     },
     "execution_count": 11,
     "metadata": {},
     "output_type": "execute_result"
    }
   ],
   "source": [
    "print(Counter(y_test))\n",
    "pd.crosstab(y_test, y_pred)"
   ]
  },
  {
   "cell_type": "code",
   "execution_count": 12,
   "metadata": {},
   "outputs": [
    {
     "name": "stdout",
     "output_type": "stream",
     "text": [
      "0.9354838709677419\n"
     ]
    }
   ],
   "source": [
    "from xgboost import XGBClassifier\n",
    "model_xg = XGBClassifier(random_state=42)\n",
    "model_xg.fit(X_train, y_train)\n",
    "y_pred = model_xg.predict(X_test)\n",
    "print(accuracy_score(y_test, y_pred))"
   ]
  },
  {
   "cell_type": "code",
   "execution_count": 13,
   "metadata": {},
   "outputs": [
    {
     "name": "stdout",
     "output_type": "stream",
     "text": [
      "Counter({0: 20, 1: 11})\n"
     ]
    },
    {
     "data": {
      "text/html": [
       "<div>\n",
       "<style scoped>\n",
       "    .dataframe tbody tr th:only-of-type {\n",
       "        vertical-align: middle;\n",
       "    }\n",
       "\n",
       "    .dataframe tbody tr th {\n",
       "        vertical-align: top;\n",
       "    }\n",
       "\n",
       "    .dataframe thead th {\n",
       "        text-align: right;\n",
       "    }\n",
       "</style>\n",
       "<table border=\"1\" class=\"dataframe\">\n",
       "  <thead>\n",
       "    <tr style=\"text-align: right;\">\n",
       "      <th>col_0</th>\n",
       "      <th>0</th>\n",
       "      <th>1</th>\n",
       "    </tr>\n",
       "    <tr>\n",
       "      <th>cluster</th>\n",
       "      <th></th>\n",
       "      <th></th>\n",
       "    </tr>\n",
       "  </thead>\n",
       "  <tbody>\n",
       "    <tr>\n",
       "      <th>0</th>\n",
       "      <td>20</td>\n",
       "      <td>0</td>\n",
       "    </tr>\n",
       "    <tr>\n",
       "      <th>1</th>\n",
       "      <td>2</td>\n",
       "      <td>9</td>\n",
       "    </tr>\n",
       "  </tbody>\n",
       "</table>\n",
       "</div>"
      ],
      "text/plain": [
       "col_0     0  1\n",
       "cluster       \n",
       "0        20  0\n",
       "1         2  9"
      ]
     },
     "execution_count": 13,
     "metadata": {},
     "output_type": "execute_result"
    }
   ],
   "source": [
    "print(Counter(y_test))\n",
    "pd.crosstab(y_test, y_pred)"
   ]
  },
  {
   "cell_type": "code",
   "execution_count": 14,
   "metadata": {},
   "outputs": [],
   "source": [
    "# plot ROC curve\n",
    "# Prediction Probablitites:\n",
    "r_probs = [0 for _ in range(len(y_test))]\n",
    "rf_probs = model_rf.predict_proba(X_test)\n",
    "lr_probs = model_lr.predict_proba(X_test)\n",
    "xg_probs = model_xg.predict_proba(X_test)"
   ]
  },
  {
   "cell_type": "code",
   "execution_count": 15,
   "metadata": {},
   "outputs": [
    {
     "data": {
      "text/plain": [
       "array([[0.97, 0.03],\n",
       "       [1.  , 0.  ],\n",
       "       [1.  , 0.  ],\n",
       "       [0.  , 1.  ],\n",
       "       [0.  , 1.  ],\n",
       "       [0.01, 0.99],\n",
       "       [0.72, 0.28],\n",
       "       [0.87, 0.13],\n",
       "       [1.  , 0.  ],\n",
       "       [1.  , 0.  ],\n",
       "       [1.  , 0.  ],\n",
       "       [1.  , 0.  ],\n",
       "       [1.  , 0.  ],\n",
       "       [1.  , 0.  ],\n",
       "       [1.  , 0.  ],\n",
       "       [0.09, 0.91],\n",
       "       [1.  , 0.  ],\n",
       "       [0.72, 0.28],\n",
       "       [0.99, 0.01],\n",
       "       [0.97, 0.03],\n",
       "       [1.  , 0.  ],\n",
       "       [0.  , 1.  ],\n",
       "       [0.02, 0.98],\n",
       "       [1.  , 0.  ],\n",
       "       [0.04, 0.96],\n",
       "       [1.  , 0.  ],\n",
       "       [1.  , 0.  ],\n",
       "       [1.  , 0.  ],\n",
       "       [0.63, 0.37],\n",
       "       [0.08, 0.92],\n",
       "       [0.97, 0.03]])"
      ]
     },
     "execution_count": 15,
     "metadata": {},
     "output_type": "execute_result"
    }
   ],
   "source": [
    "rf_probs\n",
    "\n",
    "# The first column in the below array represnts prediction probabilities for the cluster 0\n",
    "# and the second column represents the cluster 1"
   ]
  },
  {
   "cell_type": "code",
   "execution_count": 16,
   "metadata": {},
   "outputs": [],
   "source": [
    "# Calculate the roc_auc_score for each model and for each cluster\n",
    "# For cluster 1\n",
    "r_auc = roc_auc_score(y_test, r_probs)\n",
    "rf_auc_1 = roc_auc_score(y_test, rf_probs[:, 0])\n",
    "lr_auc_1 = roc_auc_score(y_test, lr_probs[:, 0])\n",
    "xg_auc_1 = roc_auc_score(y_test, xg_probs[:, 0])\n",
    "\n",
    "# For cluster 2\n",
    "rf_auc_2 = roc_auc_score(y_test, rf_probs[:, 1])\n",
    "lr_auc_2 = roc_auc_score(y_test, lr_probs[:, 1])\n",
    "xg_auc_2 = roc_auc_score(y_test, xg_probs[:, 1])"
   ]
  },
  {
   "cell_type": "code",
   "execution_count": 17,
   "metadata": {},
   "outputs": [
    {
     "name": "stdout",
     "output_type": "stream",
     "text": [
      "Random Chance Prediction: 0.5\n",
      "Random Forest AUC: 0.0 1.0\n",
      "Logistic Regression AUC: 0.5 0.5\n",
      "XG Boost AUC: 0.005 0.995\n"
     ]
    }
   ],
   "source": [
    "# Print the AUC scores:\n",
    "print('Random Chance Prediction:', r_auc)\n",
    "print('Random Forest AUC:', rf_auc_1, rf_auc_2)\n",
    "print('Logistic Regression AUC:', lr_auc_1, lr_auc_2)\n",
    "print('XG Boost AUC:' , np.round(xg_auc_1,3), np.round(xg_auc_2,3))"
   ]
  },
  {
   "cell_type": "code",
   "execution_count": 18,
   "metadata": {},
   "outputs": [],
   "source": [
    "# Calculate FPR and TPR\n",
    "r_fpr, r_tpr, _ = roc_curve(y_test, r_probs)\n",
    "\n",
    "rf_fpr_1, rf_tpr_1, _ = roc_curve(y_test, rf_probs[:, 0])\n",
    "rf_fpr_2, rf_tpr_2, _ = roc_curve(y_test, rf_probs[:, 1])\n",
    "\n",
    "lr_fpr_1, lr_tpr_1, _ = roc_curve(y_test, lr_probs[:, 0])\n",
    "lr_fpr_2, lr_tpr_2, _ = roc_curve(y_test, lr_probs[:, 1])\n",
    "\n",
    "xg_fpr_1, xg_tpr_1, _ = roc_curve(y_test, xg_probs[:, 0])\n",
    "xg_fpr_2, xg_tpr_2, _ = roc_curve(y_test, xg_probs[:, 1])"
   ]
  },
  {
   "cell_type": "code",
   "execution_count": 21,
   "metadata": {},
   "outputs": [
    {
     "data": {
      "image/png": "[encoded data removed]",
      "text/plain": [
       "<Figure size 432x288 with 1 Axes>"
      ]
     },
     "metadata": {
      "needs_background": "light"
     },
     "output_type": "display_data"
    }
   ],
   "source": [
    "# Plotting the ROC curve\n",
    "\n",
    "# For cluster 1:\n",
    "plt.plot(r_fpr, r_tpr, linestyle = '--', label=f\"Random Chance Prediction: {np.round(r_auc,3)}\")\n",
    "plt.plot(rf_fpr_1, rf_tpr_1, marker = '.' , label=f\"Random Forest AUC: {np.round(rf_auc_1,3)}\")\n",
    "plt.plot(lr_fpr_1, lr_tpr_1, marker = '.' , label=f\"Logistic Regression AUC: {np.round(lr_auc_1,3)}\")\n",
    "plt.plot(xg_fpr_1, xg_tpr_1, marker = '.' , label=f\"XG Boost AUC: {np.round(xg_auc_1,3)}\")\n",
    "\n",
    "plt.title('ROC Curve for Cluster 0')\n",
    "# Axis labels:\n",
    "plt.xlabel('False Positive Rate')\n",
    "plt.ylabel('True Positive Rate')\n",
    "# Legend:\n",
    "plt.legend()\n",
    "plt.show()"
   ]
  },
  {
   "cell_type": "code",
   "execution_count": 22,
   "metadata": {},
   "outputs": [
    {
     "data": {
      "image/png": "[encoded data removed]",
      "text/plain": [
       "<Figure size 432x288 with 1 Axes>"
      ]
     },
     "metadata": {
      "needs_background": "light"
     },
     "output_type": "display_data"
    }
   ],
   "source": [
    "# For cluster 2:\n",
    "plt.plot(r_fpr, r_tpr, linestyle = '--', label=f\"Random Chance Prediction: {np.round(r_auc,3)}\")\n",
    "plt.plot(rf_fpr_2, rf_tpr_2, marker = '.' , label=f\"Random Forest AUC: {np.round(rf_auc_2,3)}\")\n",
    "plt.plot(lr_fpr_2, lr_tpr_2, marker = '.' , label=f\"Logistic Regression AUC: {np.round(lr_auc_2,3)}\")\n",
    "plt.plot(xg_fpr_2, xg_tpr_2, marker = '.' , label=f\"XG Boost AUC: {np.round(xg_auc_2,3)}\")\n",
    "\n",
    "plt.title('ROC Curve for Cluster 1')\n",
    "# Axis labels:\n",
    "plt.xlabel('False Positive Rate')\n",
    "plt.ylabel('True Positive Rate')\n",
    "# Legend:\n",
    "plt.legend()\n",
    "plt.show()"
   ]
  },
  {
   "cell_type": "code",
   "execution_count": null,
   "metadata": {},
   "outputs": [],
   "source": []
  },
  {
   "cell_type": "code",
   "execution_count": null,
   "metadata": {},
   "outputs": [],
   "source": []
  }
 ],
 "metadata": {
  "interpreter": {
   "hash": "a9752e4ecb09369fc5b2b03ed8c288ce213169edebef3e7d47ace8b60eebfc59"
  },
  "kernelspec": {
   "display_name": "Python 3.8.12 ('base')",
   "language": "python",
   "name": "python3"
  },
  "language_info": {
   "codemirror_mode": {
    "name": "ipython",
    "version": 3
   },
   "file_extension": ".py",
   "mimetype": "text/x-python",
   "name": "python",
   "nbconvert_exporter": "python",
   "pygments_lexer": "ipython3",
   "version": "3.8.12"
  },
  "orig_nbformat": 4
 },
 "nbformat": 4,
 "nbformat_minor": 2
}
